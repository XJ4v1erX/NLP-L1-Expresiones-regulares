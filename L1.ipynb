{
 "cells": [
  {
   "cell_type": "markdown",
   "id": "6ccc2b15",
   "metadata": {},
   "source": [
    "# Laboratorio 1: Limpieza de Información Personal Identificable (PII) usando Expresiones Regulares\n",
    "\n",
    "Una empresa de consultoría ha sido contratada por un hospital para limpiar registros de transcripciones de llamadas, eliminando toda información personal identificable para cumplir con regulaciones de privacidad y protección de datos.\n",
    "\n",
    "### Objetivo\n",
    "Desarrollar un sistema de ofuscación basado en regex que identifique y redacte los siguientes tipos de PII:\n",
    "- **Correos electrónicos**\n",
    "- **Números de teléfono** \n",
    "- **Números de identificación**\n",
    "- **Direcciones**\n",
    "- **Nombres propios**\n",
    "\n",
    "### Metodología\n",
    "Se utilizará únicamente la librería `re` de Python para crear patrones de expresiones regulares que detecten y reemplacen la información sensible.\n",
    "\n",
    "### Repositorio\n",
    "https://github.com/XJ4v1erX/NLP-L1-Expresiones-regulares "
   ]
  },
  {
   "cell_type": "markdown",
   "id": "b44b057e",
   "metadata": {},
   "source": [
    "## 1. Importación de Librerías"
   ]
  },
  {
   "cell_type": "code",
   "execution_count": 1,
   "id": "51f9e264",
   "metadata": {},
   "outputs": [],
   "source": [
    "import pandas as pd\n",
    "import re"
   ]
  },
  {
   "cell_type": "markdown",
   "id": "adf39c90",
   "metadata": {},
   "source": [
    "## 2. Carga y Exploración de Datos"
   ]
  },
  {
   "cell_type": "code",
   "execution_count": 2,
   "id": "c76db5eb",
   "metadata": {},
   "outputs": [],
   "source": [
    "df = pd.read_csv('pii_dataset.csv')"
   ]
  },
  {
   "cell_type": "markdown",
   "id": "46ca6720",
   "metadata": {},
   "source": [
    "## 3. Definición de Patrones de Expresiones Regulares\n",
    "\n",
    "A continuación se definen los patrones regex para identificar cada tipo de PII. **Nota:** Esta es la parte más compleja del proceso, ya que crear expresiones regulares precisas y completas requiere considerar múltiples variaciones de formato para cada tipo de dato."
   ]
  },
  {
   "cell_type": "code",
   "execution_count": 3,
   "id": "cd6ca6c9",
   "metadata": {},
   "outputs": [],
   "source": [
    "patterns = {\n",
    "    'EMAIL':      r'[a-zA-Z0-9+._%-]+@[a-zA-Z0-9._%-]+\\.[a-zA-Z]{2,}',\n",
    "    'PHONE':      r'\\b(?:\\+?[\\d]{1,3}[-.\\s]?)*\\(?\\d{2,4}\\)?[-.\\s]?\\d{3,4}[-.\\s]?\\d{3,4}\\b',\n",
    "    'ID':         r'\\b\\d{6,10}\\b',                             \n",
    "    'DIRECCION':  r'\\bCalle\\s+[A-Z][a-z]+(?:\\s+\\d+)?\\b',       \n",
    "    'NAME':       r'\\b[A-ZÁÉÍÓÚ][a-záéíóú]+(?:\\s+[A-ZÁÉÍÓÚ][a-záéíóú]+)*\\b'\n",
    "}"
   ]
  },
  {
   "cell_type": "markdown",
   "id": "66f5afce",
   "metadata": {},
   "source": [
    "## 4. Función de Ofuscación\n",
    "\n",
    "Esta función aplica todos los patrones regex al texto de entrada y reemplaza la información identificada con etiquetas de redacción:"
   ]
  },
  {
   "cell_type": "code",
   "execution_count": 4,
   "id": "6bf3dd87",
   "metadata": {},
   "outputs": [],
   "source": [
    "def obfuscate(text):\n",
    "    if not isinstance(text, str):\n",
    "        return text\n",
    "    for label, pattern in patterns.items():\n",
    "        text = re.sub(pattern, f'[{label}_REDACTED]', text)\n",
    "    return text"
   ]
  },
  {
   "cell_type": "markdown",
   "id": "70467c78",
   "metadata": {},
   "source": [
    "## 5. Aplicación de la Ofuscación al Dataset\n",
    "\n",
    "Aplicamos la función de ofuscación a la columna 'Texto' del dataset para generar una versión limpia:"
   ]
  },
  {
   "cell_type": "code",
   "execution_count": 5,
   "id": "ef55d630",
   "metadata": {},
   "outputs": [],
   "source": [
    "df['Texto_limpio'] = df['Texto'].apply(obfuscate)"
   ]
  },
  {
   "cell_type": "markdown",
   "id": "b0b7c48f",
   "metadata": {},
   "source": [
    "## 6. Guardado del Dataset Limpio"
   ]
  },
  {
   "cell_type": "code",
   "execution_count": 6,
   "id": "ad04c216",
   "metadata": {},
   "outputs": [],
   "source": [
    "df.to_csv('pii_dataset_cleaned.csv', index=False)"
   ]
  },
  {
   "cell_type": "markdown",
   "id": "8c1c015f",
   "metadata": {},
   "source": [
    "## 7. Visualización de Resultados\n",
    "\n",
    "Comparemos algunos ejemplos del texto original vs. el texto ofuscado:"
   ]
  },
  {
   "cell_type": "code",
   "execution_count": 7,
   "id": "af3ac86a",
   "metadata": {},
   "outputs": [
    {
     "name": "stdout",
     "output_type": "stream",
     "text": [
      "=== EJEMPLOS DE OFUSCACIÓN ===\n",
      "\n",
      "--- Ejemplo 1 ---\n",
      "ORIGINAL:\n",
      "Mi nombre es Reyes Pinilla Rosado, puedes contactarme por correo electrónico en woliver@tena.es, o llamarme al +34967 400 699. Vivo en Calle Rambla de Nieves Dalmau, 126, Ávila. Mi número de identificación es 40955969R.\n",
      "\n",
      "OFUSCADO:\n",
      "[NAME_REDACTED] nombre es [NAME_REDACTED], puedes contactarme por correo electrónico en [EMAIL_REDACTED], o llamarme al +[PHONE_REDACTED]. [NAME_REDACTED] en [DIRECCION_REDACTED] de [NAME_REDACTED], 126, [NAME_REDACTED]. [NAME_REDACTED] número de identificación es 40955969R.\n",
      "\n",
      "==================================================\n",
      "\n",
      "--- Ejemplo 2 ---\n",
      "ORIGINAL:\n",
      "Mi nombre es Evita Solsona Escobar, puedes contactarme por correo electrónico en nicolaspou@hernandez.com, o llamarme al 991740961. Vivo en Calle Vial Luís Martín, 131, Las Palmas. Mi número de identificación es 34970246V.\n",
      "\n",
      "OFUSCADO:\n",
      "[NAME_REDACTED] nombre es [NAME_REDACTED], puedes contactarme por correo electrónico en [EMAIL_REDACTED], o llamarme al [PHONE_REDACTED]. [NAME_REDACTED] en [DIRECCION_REDACTED] [NAME_REDACTED], 131, [NAME_REDACTED]. [NAME_REDACTED] número de identificación es 34970246V.\n",
      "\n",
      "==================================================\n",
      "\n",
      "--- Ejemplo 3 ---\n",
      "ORIGINAL:\n",
      "Mi nombre es Lorenza Mate Bayón, puedes contactarme por correo electrónico en jimena05@iglesias.com, o llamarme al +34 673931008. Vivo en Alameda Amador Calleja 13 Piso 1 , León, 91297. Mi número de identificación es P5293902.\n",
      "\n",
      "OFUSCADO:\n",
      "[NAME_REDACTED] nombre es [NAME_REDACTED], puedes contactarme por correo electrónico en [EMAIL_REDACTED], o llamarme al +[PHONE_REDACTED]. [NAME_REDACTED] en [NAME_REDACTED] 13 [NAME_REDACTED] 1 , [NAME_REDACTED], 91297. [NAME_REDACTED] número de identificación es P5293902.\n",
      "\n",
      "==================================================\n",
      "\n"
     ]
    }
   ],
   "source": [
    "print(\"=== EJEMPLOS DE OFUSCACIÓN ===\\n\")\n",
    "\n",
    "for i in range(3):  \n",
    "    print(f\"--- Ejemplo {i+1} ---\")\n",
    "    print(\"ORIGINAL:\")\n",
    "    print(df.iloc[i]['Texto'])\n",
    "    print(\"\\nOFUSCADO:\")\n",
    "    print(df.iloc[i]['Texto_limpio'])\n",
    "    print(\"\\n\" + \"=\"*50 + \"\\n\")"
   ]
  },
  {
   "cell_type": "markdown",
   "id": "5938503d",
   "metadata": {},
   "source": [
    "## 8. Discusión Final\n",
    "\n",
    "**¿Limitantes usando solo regex?**  \n",
    "Sí. Las expresiones regulares son rígidas y no capturan todos los formatos de PII. A veces dan falsos positivos (p.ej., un número que no es teléfono) o negativos (p.ej., un DPI con letra).\n",
    "\n",
    "**Posibles mejoras**  \n",
    "- Usar NLP (NER) con bibliotecas como spaCy o transformers para entender el contexto.  \n",
    "- Entrenar modelos de machine learning que complementen a las regex.  \n",
    "- Implementar un enfoque híbrido: regex como filtro inicial y ML/NLP para validar.\n",
    "\n",
    "**Implicaciones éticas**  \n",
    "Si falla la ofuscación, se expone información sensible de pacientes (DNI, direcciones, correos), lo que puede violar HIPAA/GDPR, generar multas y dañar la confianza médico‑paciente. Por eso necesitamos soluciones robustas y claras sobre sus limitaciones.  \n"
   ]
  }
 ],
 "metadata": {
  "kernelspec": {
   "display_name": "Python 3",
   "language": "python",
   "name": "python3"
  },
  "language_info": {
   "codemirror_mode": {
    "name": "ipython",
    "version": 3
   },
   "file_extension": ".py",
   "mimetype": "text/x-python",
   "name": "python",
   "nbconvert_exporter": "python",
   "pygments_lexer": "ipython3",
   "version": "3.10.11"
  }
 },
 "nbformat": 4,
 "nbformat_minor": 5
}
